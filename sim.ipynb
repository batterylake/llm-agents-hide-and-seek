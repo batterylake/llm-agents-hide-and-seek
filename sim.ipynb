{
 "cells": [
  {
   "cell_type": "code",
   "execution_count": 1,
   "id": "eb929a6d-2429-4fdc-ad2a-370e6e0c59c1",
   "metadata": {
    "tags": []
   },
   "outputs": [
    {
     "data": {
      "text/plain": [
       "\"The color of the sky can vary depending on various factors such as time of day, weather conditions, and location. During the day, the sky appears blue because of the way Earth's atmosphere scatters sunlight. However, at sunrise or sunset, the sky can appear orange, pink, red, or purple due to the scattering of shorter wavelength light. At night, the sky appears predominantly black, but can also have shades of blue or other colors when light pollution or atmospheric conditions are present.\""
      ]
     },
     "execution_count": 1,
     "metadata": {},
     "output_type": "execute_result"
    }
   ],
   "source": [
    "import os\n",
    "import openai\n",
    "\n",
    "openai.api_key = \"YOUR_API_KEY\"\n",
    "# or\n",
    "# openai.api_key = os.environ[\"OPENAI_API_KEY\"]\n",
    "\n",
    "def llm(prompt):\n",
    "    payload=  [\n",
    "        {\"role\": \"user\", \"content\": prompt}\n",
    "    ]\n",
    "    response = openai.ChatCompletion.create(\n",
    "      model=\"gpt-3.5-turbo\",\n",
    "      messages=payload\n",
    "    )\n",
    "    return response['choices'][0]['message']['content']\n",
    "\n",
    "llm(\"What color is the sky?\")"
   ]
  },
  {
   "cell_type": "code",
   "execution_count": 2,
   "id": "5ef2319e-9a77-4351-8f59-7565749dca1c",
   "metadata": {
    "tags": []
   },
   "outputs": [
    {
     "data": {
      "text/plain": [
       "'environment:\\n  house:\\n    bedroom:\\n      bed:\\n        description: A queen-sized bed with a thick duvet and several pillows.\\n      description: A cozy room with dim lighting and plush carpeting.\\n      wardrobe:\\n        description: A tall wooden wardrobe with sliding doors and a mirror on one\\n          side.\\n    description: A two-story suburban home with a white picket fence.\\n    kitchen:\\n      cabinet:\\n        description: Oak wood cabinets, some of which are high up near the ceiling.\\n      description: A modern kitchen with stainless steel appliances.\\n      fridge:\\n        description: A double-door stainless steel fridge with a water dispenser.\\n    living_room:\\n      couch:\\n        description: A large beige sectional sofa, big enough to hide behind.\\n      description: A spacious room with a large window looking out to the garden.\\n      tv_stand:\\n        description: A modern black TV stand with several compartments below.\\n'"
      ]
     },
     "execution_count": 2,
     "metadata": {},
     "output_type": "execute_result"
    }
   ],
   "source": [
    "import yaml\n",
    "\n",
    "def load_yaml(file_path):\n",
    "    with open(file_path, 'r') as file:\n",
    "        data = yaml.safe_load(file)\n",
    "    return yaml.dump(data)\n",
    "\n",
    "load_yaml('environment.yaml')"
   ]
  },
  {
   "cell_type": "code",
   "execution_count": 3,
   "id": "d455894c",
   "metadata": {},
   "outputs": [],
   "source": [
    "def generate_persona(manual=False, persona=None):\n",
    "    return llm(\"Generate a human persona that will be used in a hide and seek game. You will play as the seeker, searching for the hiders. Your response should be a few sentences long. Ensure it is in the second person.\")"
   ]
  },
  {
   "cell_type": "code",
   "execution_count": 4,
   "id": "e53a15a2-86f1-4923-a652-ef6aa94f7fe1",
   "metadata": {
    "tags": []
   },
   "outputs": [
    {
     "data": {
      "text/plain": [
       "{'house.bedroom.wardrobe': 'thorough',\n",
       " 'house.kitchen.cabinet': 'quick',\n",
       " 'house.bedroom.bed': 'thorough'}"
      ]
     },
     "execution_count": 4,
     "metadata": {},
     "output_type": "execute_result"
    }
   ],
   "source": [
    "import re\n",
    "\n",
    "def validate_and_format_strategy(prompt_path, memories_path, regex_pattern, environment_string, quick_probability, cost_map, max_cost, persona):\n",
    "\n",
    "    with open(prompt_path, 'r') as file:\n",
    "        seeker_prompt = file.read()\n",
    "\n",
    "    with open(memories_path, 'r') as file:\n",
    "        seeker_memories = file.read()\n",
    "    \n",
    "    # Insert the memories and environment data into the seeker_prompt\n",
    "    replacements = {\n",
    "    '!<MEMORY>!': seeker_memories,\n",
    "    '!<ENVIRONMENT>!': environment_string,\n",
    "    '!<QUICK_PROBABILITY>!': str(quick_probability),\n",
    "    '!<QUICK_COST>!': str(cost_map['quick']),\n",
    "    '!<THOROUGH_COST>!': str(cost_map['thorough']),\n",
    "    '!<TOTAL_POINTS>!': str(max_cost),\n",
    "    '!<PERSONA>!': persona,\n",
    "    }\n",
    "    formatted_prompt = seeker_prompt\n",
    "    for placeholder, replacement in replacements.items():\n",
    "        formatted_prompt = formatted_prompt.replace(placeholder, replacement)\n",
    "\n",
    "    output = llm(formatted_prompt)\n",
    "\n",
    "    ct = 0\n",
    "    while True:\n",
    "    # Regex pattern to extract strategy\n",
    "        matches = re.findall(regex_pattern, output)\n",
    "\n",
    "        if matches:\n",
    "            # Convert matches to a dictionary\n",
    "            strategy_with_costs = [(location, thoroughness, cost_map[thoroughness]) for location, thoroughness in matches]\n",
    "            \n",
    "            filtered_strategy = {}\n",
    "            total_cost = 0\n",
    "            for location, thoroughness, cost in strategy_with_costs:\n",
    "                if total_cost + cost <= max_cost:\n",
    "                    filtered_strategy[location] = thoroughness\n",
    "                    total_cost += cost\n",
    "                else:\n",
    "                    break\n",
    "            \n",
    "            return filtered_strategy\n",
    "        else:\n",
    "            print(f'Invalid strategy attempt: {ct}, retrying...')\n",
    "            ct += 1\n",
    "            output = llm(formatted_prompt)\n",
    "\n",
    "# Example\n",
    "prompt_path = 'seeker_prompt.txt'\n",
    "memories_path = 'seeker_memories.txt'\n",
    "cost_map = {\n",
    "    'quick': 1,\n",
    "    'thorough': 2\n",
    "}\n",
    "quick_probability = 0.5\n",
    "regex_pattern = r'(house\\..+?):\\s(quick|thorough)'\n",
    "environment_string = load_yaml('environment.yaml')\n",
    "max_cost = 5\n",
    "\n",
    "validate_and_format_strategy(prompt_path=prompt_path, memories_path=memories_path,\n",
    "                              regex_pattern=regex_pattern, environment_string=environment_string, quick_probability=quick_probability,\n",
    "                              cost_map=cost_map, max_cost=max_cost, persona=\"You use aggressive tactics to find the hider quickly.\")"
   ]
  },
  {
   "cell_type": "code",
   "execution_count": 5,
   "id": "56d25982-bd19-4330-9db2-18a8eac9e7fb",
   "metadata": {
    "tags": []
   },
   "outputs": [],
   "source": [
    "import random\n",
    "\n",
    "def get_hider_location(hider_prompt_path, hider_memories_path, environment_string):\n",
    "\n",
    "    with open(hider_prompt_path, 'r') as file:\n",
    "        hider_prompt = file.read()\n",
    "\n",
    "    with open(hider_memories_path, 'r') as file:\n",
    "        hider_memories = file.read()\n",
    "\n",
    "    formatted_prompt = hider_prompt.replace('!<MEMORY>!', hider_memories).replace('!<ENVIRONMENT>!', environment_string)\n",
    "    hider_location = llm(formatted_prompt)\n",
    "    # Test if the location is valid\n",
    "    match = re.search(r'(house\\.[a-zA-Z0-9_]+\\.[a-zA-Z0-9_]+)', hider_location)\n",
    "    ct = 1\n",
    "    while not match:\n",
    "        print(f\"Invalid location, Attempt {ct}, Trying again...\")\n",
    "        hider_location = llm(formatted_prompt)\n",
    "        match = re.search(r'(house\\.[a-zA-Z0-9_]+\\.[a-zA-Z0-9_]+)', hider_location)\n",
    "        ct += 1\n",
    "    hider_location = match.group(0)\n",
    "    return hider_location\n",
    "\n",
    "# Execute the strategy and determine success\n",
    "def execute_strategy(strategy, quick_probability, hider_location):\n",
    "    \n",
    "    for location, thoroughness in strategy.items():\n",
    "        if location == hider_location and thoroughness == \"thorough\":\n",
    "            return \"found\"\n",
    "        elif location == hider_location and thoroughness == \"quick\":\n",
    "            if random.random() < quick_probability:\n",
    "                return \"found\"\n",
    "            else:\n",
    "                return \"not_found\"\n",
    "\n",
    "            \n",
    "    return \"not_found\"\n",
    "\n",
    "def get_next_iteration_number(memories_path):\n",
    "    with open(memories_path, 'r') as f:\n",
    "        lines = f.readlines()\n",
    "    iteration_count = sum(1 for line in lines if line.startswith(\"iteration_\"))\n",
    "    return iteration_count + 1\n",
    "\n",
    "def append_to_seeker_memory(seeker_memories_path, hider_location, strategy, outcome):\n",
    "    iteration_number = get_next_iteration_number(seeker_memories_path)\n",
    "    with open(seeker_memories_path, 'a') as f:\n",
    "        f.write(f\"iteration_{iteration_number}:\\n\")\n",
    "        f.write(f\"hider_location: {hider_location}\\n\")\n",
    "        f.write(f\"seeker_strategy: {strategy}\\n\")\n",
    "        f.write(f\"outcome: {outcome}\\n\\n\")\n",
    "\n",
    "def append_to_hider_memory(hider_memories_path, hider_location, outcome):\n",
    "    iteration_number = get_next_iteration_number(hider_memories_path)\n",
    "    with open(hider_memories_path, 'a') as f:\n",
    "        f.write(f\"iteration_{iteration_number}:\\n\")\n",
    "        f.write(f\"hider_location: {hider_location}\\n\")\n",
    "        f.write(f\"outcome: {outcome}\\n\\n\")\n",
    "\n",
    "def clear_memory(file_path):\n",
    "    with open(file_path, 'w') as f:\n",
    "        f.write('')"
   ]
  },
  {
   "cell_type": "code",
   "execution_count": 6,
   "id": "7b3ea3d0",
   "metadata": {},
   "outputs": [],
   "source": [
    "def run(n, seeker_memories_path='seeker_memories.txt', seeker_prompt_path='seeker_prompt.txt', hider_memories_path='hider_memories.txt', hider_prompt_path='hider_prompt.txt',\n",
    "         quick_probability = 0.5,cost=4):\n",
    "    results = []\n",
    "    persona = generate_persona()\n",
    "    print(f\"Persona: {persona}\")\n",
    "    for i in range(n):\n",
    "        hider_location = get_hider_location(hider_prompt_path, hider_memories_path, environment_string)\n",
    "        strategy = validate_and_format_strategy(prompt_path=prompt_path, memories_path=memories_path,\n",
    "                              regex_pattern=regex_pattern, environment_string=environment_string, quick_probability=quick_probability,\n",
    "                              cost_map=cost_map, max_cost=max_cost, persona=persona)\n",
    "        outcome = execute_strategy(strategy, quick_probability, hider_location)\n",
    "        append_to_seeker_memory(seeker_memories_path, hider_location, strategy, outcome)\n",
    "        append_to_hider_memory(hider_memories_path, hider_location, outcome)\n",
    "        results.append((outcome, hider_location, strategy))\n",
    "        print(f\"Iteration {i+1}: {outcome}\")\n",
    "    next_step = input(\"Clear memories? (y/n)\")\n",
    "    if next_step == 'y':\n",
    "        clear_memory(seeker_memories_path)\n",
    "        clear_memory(hider_memories_path)\n",
    "    else:\n",
    "        print(\"Not clearing memories\")\n",
    "    return results"
   ]
  },
  {
   "cell_type": "code",
   "execution_count": 7,
   "id": "1bb1dbdb",
   "metadata": {},
   "outputs": [],
   "source": [
    "import numpy as np\n",
    "import bqplot.pyplot as plt\n",
    "from bqplot import Tooltip\n",
    "\n",
    "def viz_results(games):\n",
    "    # Calculate seeker's cumulative win percentage\n",
    "    wins = np.cumsum([1 if game[0] == 'found' else 0 for game in games])\n",
    "    total_games = np.arange(1, len(games) + 1)\n",
    "    win_percentage = wins / total_games * 100  # Convert to percentage\n",
    "\n",
    "    # Define tooltips\n",
    "    def get_strategy(i):\n",
    "        return ', '.join([f\"{loc}: {strategy}\" for loc, strategy in games[i][2].items()])\n",
    "\n",
    "    # Visualization using bqplot\n",
    "    fig_margin = dict(top=50, bottom=60, left=80, right=20)\n",
    "    plt.figure(title='Seeker Cumulative Win Percentage', fig_margin=fig_margin)\n",
    "\n",
    "    # Line plot for the win percentage\n",
    "    plt.plot(total_games, win_percentage, colors=['blue'])\n",
    "\n",
    "    # Tooltips for scatter plot\n",
    "    tooltips = [\n",
    "        f\"Iteration: {i+1}\\n\" +\n",
    "        f\"Win Percentage: {win_percentage[i]:.2f}%\\n\" +\n",
    "        f\"Strategy: {get_strategy(i)}\\n\" +\n",
    "        f\"Hider Location: {games[i][1]}\"\n",
    "        for i in range(len(games))\n",
    "    ]\n",
    "\n",
    "    # Scatter plot for tooltips\n",
    "    scatters = plt.scatter(total_games, win_percentage, colors=['blue'], default_size=40, names=tooltips, display_names=False)\n",
    "\n",
    "    # Assign tooltips to scatter plot\n",
    "    scatters.tooltip = Tooltip(fields=['name'], show_labels=False)\n",
    "\n",
    "    plt.show()"
   ]
  },
  {
   "cell_type": "code",
   "execution_count": 8,
   "id": "f3905e3a",
   "metadata": {},
   "outputs": [
    {
     "name": "stdout",
     "output_type": "stream",
     "text": [
      "Persona: You are Agent Smith, a seasoned detective known for your sharp instincts and relentless pursuit. Dressed in a tailored suit, your steely eyes scan the surroundings as you search for the crafty hiders. With a reputation for always finding your targets, you rely on your keen observation skills and the ability to predict their next move. No corner, no shadow is safe from your watchful gaze, as you navigate the game of hide and seek with unwavering determination.\n",
      "Iteration 1: found\n",
      "Iteration 2: not_found\n",
      "Iteration 3: not_found\n",
      "Iteration 4: found\n",
      "Iteration 5: not_found\n",
      "Iteration 6: not_found\n",
      "Iteration 7: not_found\n",
      "Iteration 8: found\n"
     ]
    }
   ],
   "source": [
    "games = run(8)"
   ]
  },
  {
   "cell_type": "code",
   "execution_count": 9,
   "id": "f73a3d1f",
   "metadata": {},
   "outputs": [
    {
     "data": {
      "application/vnd.jupyter.widget-view+json": {
       "model_id": "3991a8f6e8054ddeb36c28e36c07de00",
       "version_major": 2,
       "version_minor": 0
      },
      "text/plain": [
       "VBox(children=(Figure(axes=[Axis(scale=LinearScale()), Axis(orientation='vertical', scale=LinearScale())], fig…"
      ]
     },
     "metadata": {},
     "output_type": "display_data"
    }
   ],
   "source": [
    "viz_results(games)"
   ]
  }
 ],
 "metadata": {
  "availableInstances": [
   {
    "_defaultOrder": 0,
    "_isFastLaunch": true,
    "category": "General purpose",
    "gpuNum": 0,
    "hideHardwareSpecs": false,
    "memoryGiB": 4,
    "name": "ml.t3.medium",
    "vcpuNum": 2
   },
   {
    "_defaultOrder": 1,
    "_isFastLaunch": false,
    "category": "General purpose",
    "gpuNum": 0,
    "hideHardwareSpecs": false,
    "memoryGiB": 8,
    "name": "ml.t3.large",
    "vcpuNum": 2
   },
   {
    "_defaultOrder": 2,
    "_isFastLaunch": false,
    "category": "General purpose",
    "gpuNum": 0,
    "hideHardwareSpecs": false,
    "memoryGiB": 16,
    "name": "ml.t3.xlarge",
    "vcpuNum": 4
   },
   {
    "_defaultOrder": 3,
    "_isFastLaunch": false,
    "category": "General purpose",
    "gpuNum": 0,
    "hideHardwareSpecs": false,
    "memoryGiB": 32,
    "name": "ml.t3.2xlarge",
    "vcpuNum": 8
   },
   {
    "_defaultOrder": 4,
    "_isFastLaunch": true,
    "category": "General purpose",
    "gpuNum": 0,
    "hideHardwareSpecs": false,
    "memoryGiB": 8,
    "name": "ml.m5.large",
    "vcpuNum": 2
   },
   {
    "_defaultOrder": 5,
    "_isFastLaunch": false,
    "category": "General purpose",
    "gpuNum": 0,
    "hideHardwareSpecs": false,
    "memoryGiB": 16,
    "name": "ml.m5.xlarge",
    "vcpuNum": 4
   },
   {
    "_defaultOrder": 6,
    "_isFastLaunch": false,
    "category": "General purpose",
    "gpuNum": 0,
    "hideHardwareSpecs": false,
    "memoryGiB": 32,
    "name": "ml.m5.2xlarge",
    "vcpuNum": 8
   },
   {
    "_defaultOrder": 7,
    "_isFastLaunch": false,
    "category": "General purpose",
    "gpuNum": 0,
    "hideHardwareSpecs": false,
    "memoryGiB": 64,
    "name": "ml.m5.4xlarge",
    "vcpuNum": 16
   },
   {
    "_defaultOrder": 8,
    "_isFastLaunch": false,
    "category": "General purpose",
    "gpuNum": 0,
    "hideHardwareSpecs": false,
    "memoryGiB": 128,
    "name": "ml.m5.8xlarge",
    "vcpuNum": 32
   },
   {
    "_defaultOrder": 9,
    "_isFastLaunch": false,
    "category": "General purpose",
    "gpuNum": 0,
    "hideHardwareSpecs": false,
    "memoryGiB": 192,
    "name": "ml.m5.12xlarge",
    "vcpuNum": 48
   },
   {
    "_defaultOrder": 10,
    "_isFastLaunch": false,
    "category": "General purpose",
    "gpuNum": 0,
    "hideHardwareSpecs": false,
    "memoryGiB": 256,
    "name": "ml.m5.16xlarge",
    "vcpuNum": 64
   },
   {
    "_defaultOrder": 11,
    "_isFastLaunch": false,
    "category": "General purpose",
    "gpuNum": 0,
    "hideHardwareSpecs": false,
    "memoryGiB": 384,
    "name": "ml.m5.24xlarge",
    "vcpuNum": 96
   },
   {
    "_defaultOrder": 12,
    "_isFastLaunch": false,
    "category": "General purpose",
    "gpuNum": 0,
    "hideHardwareSpecs": false,
    "memoryGiB": 8,
    "name": "ml.m5d.large",
    "vcpuNum": 2
   },
   {
    "_defaultOrder": 13,
    "_isFastLaunch": false,
    "category": "General purpose",
    "gpuNum": 0,
    "hideHardwareSpecs": false,
    "memoryGiB": 16,
    "name": "ml.m5d.xlarge",
    "vcpuNum": 4
   },
   {
    "_defaultOrder": 14,
    "_isFastLaunch": false,
    "category": "General purpose",
    "gpuNum": 0,
    "hideHardwareSpecs": false,
    "memoryGiB": 32,
    "name": "ml.m5d.2xlarge",
    "vcpuNum": 8
   },
   {
    "_defaultOrder": 15,
    "_isFastLaunch": false,
    "category": "General purpose",
    "gpuNum": 0,
    "hideHardwareSpecs": false,
    "memoryGiB": 64,
    "name": "ml.m5d.4xlarge",
    "vcpuNum": 16
   },
   {
    "_defaultOrder": 16,
    "_isFastLaunch": false,
    "category": "General purpose",
    "gpuNum": 0,
    "hideHardwareSpecs": false,
    "memoryGiB": 128,
    "name": "ml.m5d.8xlarge",
    "vcpuNum": 32
   },
   {
    "_defaultOrder": 17,
    "_isFastLaunch": false,
    "category": "General purpose",
    "gpuNum": 0,
    "hideHardwareSpecs": false,
    "memoryGiB": 192,
    "name": "ml.m5d.12xlarge",
    "vcpuNum": 48
   },
   {
    "_defaultOrder": 18,
    "_isFastLaunch": false,
    "category": "General purpose",
    "gpuNum": 0,
    "hideHardwareSpecs": false,
    "memoryGiB": 256,
    "name": "ml.m5d.16xlarge",
    "vcpuNum": 64
   },
   {
    "_defaultOrder": 19,
    "_isFastLaunch": false,
    "category": "General purpose",
    "gpuNum": 0,
    "hideHardwareSpecs": false,
    "memoryGiB": 384,
    "name": "ml.m5d.24xlarge",
    "vcpuNum": 96
   },
   {
    "_defaultOrder": 20,
    "_isFastLaunch": false,
    "category": "General purpose",
    "gpuNum": 0,
    "hideHardwareSpecs": true,
    "memoryGiB": 0,
    "name": "ml.geospatial.interactive",
    "supportedImageNames": [
     "sagemaker-geospatial-v1-0"
    ],
    "vcpuNum": 0
   },
   {
    "_defaultOrder": 21,
    "_isFastLaunch": true,
    "category": "Compute optimized",
    "gpuNum": 0,
    "hideHardwareSpecs": false,
    "memoryGiB": 4,
    "name": "ml.c5.large",
    "vcpuNum": 2
   },
   {
    "_defaultOrder": 22,
    "_isFastLaunch": false,
    "category": "Compute optimized",
    "gpuNum": 0,
    "hideHardwareSpecs": false,
    "memoryGiB": 8,
    "name": "ml.c5.xlarge",
    "vcpuNum": 4
   },
   {
    "_defaultOrder": 23,
    "_isFastLaunch": false,
    "category": "Compute optimized",
    "gpuNum": 0,
    "hideHardwareSpecs": false,
    "memoryGiB": 16,
    "name": "ml.c5.2xlarge",
    "vcpuNum": 8
   },
   {
    "_defaultOrder": 24,
    "_isFastLaunch": false,
    "category": "Compute optimized",
    "gpuNum": 0,
    "hideHardwareSpecs": false,
    "memoryGiB": 32,
    "name": "ml.c5.4xlarge",
    "vcpuNum": 16
   },
   {
    "_defaultOrder": 25,
    "_isFastLaunch": false,
    "category": "Compute optimized",
    "gpuNum": 0,
    "hideHardwareSpecs": false,
    "memoryGiB": 72,
    "name": "ml.c5.9xlarge",
    "vcpuNum": 36
   },
   {
    "_defaultOrder": 26,
    "_isFastLaunch": false,
    "category": "Compute optimized",
    "gpuNum": 0,
    "hideHardwareSpecs": false,
    "memoryGiB": 96,
    "name": "ml.c5.12xlarge",
    "vcpuNum": 48
   },
   {
    "_defaultOrder": 27,
    "_isFastLaunch": false,
    "category": "Compute optimized",
    "gpuNum": 0,
    "hideHardwareSpecs": false,
    "memoryGiB": 144,
    "name": "ml.c5.18xlarge",
    "vcpuNum": 72
   },
   {
    "_defaultOrder": 28,
    "_isFastLaunch": false,
    "category": "Compute optimized",
    "gpuNum": 0,
    "hideHardwareSpecs": false,
    "memoryGiB": 192,
    "name": "ml.c5.24xlarge",
    "vcpuNum": 96
   },
   {
    "_defaultOrder": 29,
    "_isFastLaunch": true,
    "category": "Accelerated computing",
    "gpuNum": 1,
    "hideHardwareSpecs": false,
    "memoryGiB": 16,
    "name": "ml.g4dn.xlarge",
    "vcpuNum": 4
   },
   {
    "_defaultOrder": 30,
    "_isFastLaunch": false,
    "category": "Accelerated computing",
    "gpuNum": 1,
    "hideHardwareSpecs": false,
    "memoryGiB": 32,
    "name": "ml.g4dn.2xlarge",
    "vcpuNum": 8
   },
   {
    "_defaultOrder": 31,
    "_isFastLaunch": false,
    "category": "Accelerated computing",
    "gpuNum": 1,
    "hideHardwareSpecs": false,
    "memoryGiB": 64,
    "name": "ml.g4dn.4xlarge",
    "vcpuNum": 16
   },
   {
    "_defaultOrder": 32,
    "_isFastLaunch": false,
    "category": "Accelerated computing",
    "gpuNum": 1,
    "hideHardwareSpecs": false,
    "memoryGiB": 128,
    "name": "ml.g4dn.8xlarge",
    "vcpuNum": 32
   },
   {
    "_defaultOrder": 33,
    "_isFastLaunch": false,
    "category": "Accelerated computing",
    "gpuNum": 4,
    "hideHardwareSpecs": false,
    "memoryGiB": 192,
    "name": "ml.g4dn.12xlarge",
    "vcpuNum": 48
   },
   {
    "_defaultOrder": 34,
    "_isFastLaunch": false,
    "category": "Accelerated computing",
    "gpuNum": 1,
    "hideHardwareSpecs": false,
    "memoryGiB": 256,
    "name": "ml.g4dn.16xlarge",
    "vcpuNum": 64
   },
   {
    "_defaultOrder": 35,
    "_isFastLaunch": false,
    "category": "Accelerated computing",
    "gpuNum": 1,
    "hideHardwareSpecs": false,
    "memoryGiB": 61,
    "name": "ml.p3.2xlarge",
    "vcpuNum": 8
   },
   {
    "_defaultOrder": 36,
    "_isFastLaunch": false,
    "category": "Accelerated computing",
    "gpuNum": 4,
    "hideHardwareSpecs": false,
    "memoryGiB": 244,
    "name": "ml.p3.8xlarge",
    "vcpuNum": 32
   },
   {
    "_defaultOrder": 37,
    "_isFastLaunch": false,
    "category": "Accelerated computing",
    "gpuNum": 8,
    "hideHardwareSpecs": false,
    "memoryGiB": 488,
    "name": "ml.p3.16xlarge",
    "vcpuNum": 64
   },
   {
    "_defaultOrder": 38,
    "_isFastLaunch": false,
    "category": "Accelerated computing",
    "gpuNum": 8,
    "hideHardwareSpecs": false,
    "memoryGiB": 768,
    "name": "ml.p3dn.24xlarge",
    "vcpuNum": 96
   },
   {
    "_defaultOrder": 39,
    "_isFastLaunch": false,
    "category": "Memory Optimized",
    "gpuNum": 0,
    "hideHardwareSpecs": false,
    "memoryGiB": 16,
    "name": "ml.r5.large",
    "vcpuNum": 2
   },
   {
    "_defaultOrder": 40,
    "_isFastLaunch": false,
    "category": "Memory Optimized",
    "gpuNum": 0,
    "hideHardwareSpecs": false,
    "memoryGiB": 32,
    "name": "ml.r5.xlarge",
    "vcpuNum": 4
   },
   {
    "_defaultOrder": 41,
    "_isFastLaunch": false,
    "category": "Memory Optimized",
    "gpuNum": 0,
    "hideHardwareSpecs": false,
    "memoryGiB": 64,
    "name": "ml.r5.2xlarge",
    "vcpuNum": 8
   },
   {
    "_defaultOrder": 42,
    "_isFastLaunch": false,
    "category": "Memory Optimized",
    "gpuNum": 0,
    "hideHardwareSpecs": false,
    "memoryGiB": 128,
    "name": "ml.r5.4xlarge",
    "vcpuNum": 16
   },
   {
    "_defaultOrder": 43,
    "_isFastLaunch": false,
    "category": "Memory Optimized",
    "gpuNum": 0,
    "hideHardwareSpecs": false,
    "memoryGiB": 256,
    "name": "ml.r5.8xlarge",
    "vcpuNum": 32
   },
   {
    "_defaultOrder": 44,
    "_isFastLaunch": false,
    "category": "Memory Optimized",
    "gpuNum": 0,
    "hideHardwareSpecs": false,
    "memoryGiB": 384,
    "name": "ml.r5.12xlarge",
    "vcpuNum": 48
   },
   {
    "_defaultOrder": 45,
    "_isFastLaunch": false,
    "category": "Memory Optimized",
    "gpuNum": 0,
    "hideHardwareSpecs": false,
    "memoryGiB": 512,
    "name": "ml.r5.16xlarge",
    "vcpuNum": 64
   },
   {
    "_defaultOrder": 46,
    "_isFastLaunch": false,
    "category": "Memory Optimized",
    "gpuNum": 0,
    "hideHardwareSpecs": false,
    "memoryGiB": 768,
    "name": "ml.r5.24xlarge",
    "vcpuNum": 96
   },
   {
    "_defaultOrder": 47,
    "_isFastLaunch": false,
    "category": "Accelerated computing",
    "gpuNum": 1,
    "hideHardwareSpecs": false,
    "memoryGiB": 16,
    "name": "ml.g5.xlarge",
    "vcpuNum": 4
   },
   {
    "_defaultOrder": 48,
    "_isFastLaunch": false,
    "category": "Accelerated computing",
    "gpuNum": 1,
    "hideHardwareSpecs": false,
    "memoryGiB": 32,
    "name": "ml.g5.2xlarge",
    "vcpuNum": 8
   },
   {
    "_defaultOrder": 49,
    "_isFastLaunch": false,
    "category": "Accelerated computing",
    "gpuNum": 1,
    "hideHardwareSpecs": false,
    "memoryGiB": 64,
    "name": "ml.g5.4xlarge",
    "vcpuNum": 16
   },
   {
    "_defaultOrder": 50,
    "_isFastLaunch": false,
    "category": "Accelerated computing",
    "gpuNum": 1,
    "hideHardwareSpecs": false,
    "memoryGiB": 128,
    "name": "ml.g5.8xlarge",
    "vcpuNum": 32
   },
   {
    "_defaultOrder": 51,
    "_isFastLaunch": false,
    "category": "Accelerated computing",
    "gpuNum": 1,
    "hideHardwareSpecs": false,
    "memoryGiB": 256,
    "name": "ml.g5.16xlarge",
    "vcpuNum": 64
   },
   {
    "_defaultOrder": 52,
    "_isFastLaunch": false,
    "category": "Accelerated computing",
    "gpuNum": 4,
    "hideHardwareSpecs": false,
    "memoryGiB": 192,
    "name": "ml.g5.12xlarge",
    "vcpuNum": 48
   },
   {
    "_defaultOrder": 53,
    "_isFastLaunch": false,
    "category": "Accelerated computing",
    "gpuNum": 4,
    "hideHardwareSpecs": false,
    "memoryGiB": 384,
    "name": "ml.g5.24xlarge",
    "vcpuNum": 96
   },
   {
    "_defaultOrder": 54,
    "_isFastLaunch": false,
    "category": "Accelerated computing",
    "gpuNum": 8,
    "hideHardwareSpecs": false,
    "memoryGiB": 768,
    "name": "ml.g5.48xlarge",
    "vcpuNum": 192
   },
   {
    "_defaultOrder": 55,
    "_isFastLaunch": false,
    "category": "Accelerated computing",
    "gpuNum": 8,
    "hideHardwareSpecs": false,
    "memoryGiB": 1152,
    "name": "ml.p4d.24xlarge",
    "vcpuNum": 96
   },
   {
    "_defaultOrder": 56,
    "_isFastLaunch": false,
    "category": "Accelerated computing",
    "gpuNum": 8,
    "hideHardwareSpecs": false,
    "memoryGiB": 1152,
    "name": "ml.p4de.24xlarge",
    "vcpuNum": 96
   }
  ],
  "instance_type": "ml.t3.medium",
  "kernelspec": {
   "display_name": "Python 3",
   "language": "python",
   "name": "python3"
  },
  "language_info": {
   "codemirror_mode": {
    "name": "ipython",
    "version": 3
   },
   "file_extension": ".py",
   "mimetype": "text/x-python",
   "name": "python",
   "nbconvert_exporter": "python",
   "pygments_lexer": "ipython3",
   "version": "3.10.10"
  }
 },
 "nbformat": 4,
 "nbformat_minor": 5
}
